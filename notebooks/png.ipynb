{
 "cells": [
  {
   "cell_type": "markdown",
   "id": "650f81d8",
   "metadata": {},
   "source": [
    "Load all png(Lab Prescription) files:\n"
   ]
  },
  {
   "cell_type": "code",
   "execution_count": 1,
   "id": "f03b0b0e",
   "metadata": {},
   "outputs": [],
   "source": [
    "import os\n",
    "import cv2\n",
    "\n",
    "input_folder = r\"C:\\Users\\gayat\\Desktop\\project\\data\"\n",
    "\n",
    "#List to store image data and filenames\n",
    "images = []\n",
    "\n",
    "# Loop through all PNG files in the folder\n",
    "for file_name in os.listdir(input_folder):\n",
    "    if file_name.lower().endswith(\".png\"):\n",
    "        file_path = os.path.join(input_folder, file_name)\n",
    "        img = cv2.imread(file_path)  # Load image\n",
    "        images.append((file_name, img))\n",
    "\n"
   ]
  },
  {
   "cell_type": "markdown",
   "id": "8d8f8772",
   "metadata": {},
   "source": [
    "Convert Image to text: (Set the path to your Tesseract executable)\n",
    "\n"
   ]
  },
  {
   "cell_type": "code",
   "execution_count": 2,
   "id": "4b31caae",
   "metadata": {},
   "outputs": [],
   "source": [
    "import pytesseract\n",
    "pytesseract.pytesseract.tesseract_cmd = r\"C:\\Program Files\\Tesseract-OCR\\tesseract.exe\"\n",
    "\n"
   ]
  },
  {
   "cell_type": "markdown",
   "id": "b8e5b5d2",
   "metadata": {},
   "source": [
    "Loop through images and run OCR using Threadpool Executor:\n",
    "\n"
   ]
  },
  {
   "cell_type": "code",
   "execution_count": 3,
   "id": "721a4182",
   "metadata": {},
   "outputs": [],
   "source": [
    "# Faster OCR using multiprocessing\n",
    "import concurrent.futures\n",
    "ocr_texts = []\n",
    "\n",
    "\n",
    "def ocr_image(image_tuple):\n",
    "    file_name, img = image_tuple\n",
    "    img_rgb = cv2.cvtColor(img, cv2.COLOR_BGR2RGB)\n",
    "    text = pytesseract.image_to_string(img_rgb)\n",
    "    return {\"File\": file_name, \"Text\": text}\n",
    "\n",
    "# Run OCR in parallel\n",
    "with concurrent.futures.ThreadPoolExecutor() as executor:\n",
    "    ocr_texts = list(executor.map(ocr_image, images))\n",
    "\n"
   ]
  },
  {
   "cell_type": "markdown",
   "id": "72810139",
   "metadata": {},
   "source": [
    "Display OCR result"
   ]
  },
  {
   "cell_type": "code",
   "execution_count": 4,
   "id": "a29cf140",
   "metadata": {},
   "outputs": [
    {
     "name": "stdout",
     "output_type": "stream",
     "text": [
      "Filename: 0.png\n",
      "Extracted Text:\n",
      " LABORATORY REPORT\n",
      "\n",
      "Patient Name: Vicki Frank Age: 53\n",
      "\n",
      "DOB: 1971-06-26 Gender: female\n",
      "\n",
      "Address: 711 Cole Stravenue Suite 23 City: Franklin\n",
      "\n",
      "State: MA Country: US\n",
      "\n",
      "PostalCode: 02038 MaritalStatus: | Married\n",
      "\n",
      "MRN: a698a486-824d-3beb-5d74-cd7809889e2b Report Date: Dec 13, 2014, 01:54:26\n",
      "\n",
      "Test Result Units\n",
      "\n",
      "Body Height 179.9 cm\n",
      "Pain severity - 0-10 verbal numeric rating [Score] 1.0 {score}\n",
      "- Reported\n",
      "Body Weight 98.5 kg\n",
      "Body mass index (BMI) [Ratio] 30.44 kg/m2\n",
      "Diastolic Blood Pressure 86 mm[Hg]\n",
      "Systolic Blood Pressure 100 mm[Hg]\n",
      "Heart rate 96.0 /min\n",
      "Respiratory rate 14.0 /min\n",
      "Generalized anxiety disorder 7 item (GAD-7) total 3.0 {score}\n",
      "score [Reported.PHQ]\n",
      "Patient Health Questionnaire 2 item (PHQ-2) total 2.0 {score}\n",
      "score [Reported]\n",
      "Total score [AUDIT-C] 1.0 {score}\n",
      "\n",
      "Dr. Wynell Mayert\n",
      "\n",
      "[m] 1 = [=] Booking Centre:- WELLNESS ON WHEELS,PC\n",
      "\n",
      "=_ © (263)761-9191 B robin83@example.com ® http://fisher.com/\n",
      "\n",
      "[mu] All Lab results are subject to clinical interpretation by qualified medical professional and this report is not subject to use for any medico-legal purpose.\n",
      "7\n",
      "\n",
      "\n"
     ]
    }
   ],
   "source": [
    "print(\"Filename:\", ocr_texts[0]['File'])\n",
    "print(\"Extracted Text:\\n\", ocr_texts[0]['Text'])"
   ]
  },
  {
   "cell_type": "markdown",
   "id": "e5473b9a",
   "metadata": {},
   "source": [
    "Extract structured information using regex"
   ]
  },
  {
   "cell_type": "code",
   "execution_count": 5,
   "id": "82dd47fd",
   "metadata": {},
   "outputs": [],
   "source": [
    "import re\n",
    "\n",
    "patterns = {\n",
    "    \"Patient Name\": r\"Patient Name[:\\s]*(.*?)\\s+Age:\",\n",
    "\n",
    "    \"DOB\": r\"DOB[:\\s]*(\\d{4}-\\d{2}-\\d{2})\",\n",
    "    \"Age\": r\"Age[:\\s]*(\\d+)\",\n",
    "    \"Gender\": r\"Gender[:\\s]*(\\w+)\",\n",
    "    \"Body Height\": r\"Body Height[:\\s]*(\\d+\\.?\\d*)\\s*cm\",\n",
    "    \"Body Weight\": r\"Body Weight[:\\s]*(\\d+\\.?\\d*)\\s*kg\",\n",
    "    \"BMI\": r\"Body mass index \\(BMI\\)\\s*\\[.*\\]\\s*(\\d+\\.?\\d*)\",\n",
    "    \"Systolic BP\": r\"Systolic Blood Pressure[:\\s]*(\\d+)\",\n",
    "    \"Diastolic BP\": r\"Diastolic Blood Pressure[:\\s]*(\\d+)\",\n",
    "    \"Heart Rate\": r\"Heart rate[:\\s]*(\\d+\\.?\\d*)\",\n",
    "    \"Respiratory Rate\": r\"Respiratory rate[:\\s]*(\\d+\\.?\\d*)\",\n",
    "    \"Doctor\": r\"Dr\\.?\\s+([A-Za-z\\s]+)\"\n",
    "}\n"
   ]
  },
  {
   "cell_type": "markdown",
   "id": "9f57cc26",
   "metadata": {},
   "source": [
    "Clean patient names: Remove unwanted characters\n"
   ]
  },
  {
   "cell_type": "code",
   "execution_count": 6,
   "id": "26ef5ff2",
   "metadata": {},
   "outputs": [
    {
     "name": "stdout",
     "output_type": "stream",
     "text": [
      "Leonia Roxie\n"
     ]
    }
   ],
   "source": [
    "import re\n",
    "\n",
    "text = \"Patient Name: — Leonia Roxie Age: 53\"\n",
    "\n",
    "# Capture everything before Age:\n",
    "match = re.search(r\"Patient Name[:\\s]*(.*?)\\s+Age:\", text)\n",
    "if match:\n",
    "    name = match.group(1)\n",
    "    # Remove unwanted leading/trailing characters (dashes, bullets, spaces)\n",
    "    name = name.strip(\" -–—·\")   # note: em dash is included\n",
    "    # Normalize whitespace\n",
    "    name = \" \".join(name.split())\n",
    "    print(name)  # Output: Leonia Roxie\n"
   ]
  },
  {
   "cell_type": "markdown",
   "id": "af53c1fd",
   "metadata": {},
   "source": [
    "Apply regex to all OCR results"
   ]
  },
  {
   "cell_type": "code",
   "execution_count": 7,
   "id": "80649fe7",
   "metadata": {},
   "outputs": [],
   "source": [
    "structured_data = []\n",
    "\n",
    "for record in ocr_texts:\n",
    "    file_name = record['File']\n",
    "    text = record['Text']\n",
    "    \n",
    "    extracted = {\"File\": file_name}\n",
    "    \n",
    "    for key, pattern in patterns.items():\n",
    "        match = re.search(pattern, text)\n",
    "        if match:\n",
    "            value = match.group(1).strip()\n",
    "        # Clean Patient Name for InvoiceNet\n",
    "            if key == \"Patient Name\":\n",
    "            # Remove leading/trailing non-letter characters (dashes, bullets, spaces)\n",
    "                value = re.sub(r\"^[^A-Za-z]+\", \"\", value)   # remove leading unwanted chars\n",
    "                value = re.sub(r\"[^A-Za-z\\s]+$\", \"\", value) # remove trailing unwanted chars\n",
    "                value = \" \".join(value.split())             # normalize whitespace\n",
    "            extracted[key] = value\n",
    "        else:\n",
    "            extracted[key] = \"\"\n",
    "\n",
    "    \n",
    "    structured_data.append(extracted)\n",
    "\n",
    "#Output list of dictonaries each representing one image with extracted fields."
   ]
  },
  {
   "cell_type": "code",
   "execution_count": 8,
   "id": "d142341d",
   "metadata": {},
   "outputs": [
    {
     "data": {
      "text/html": [
       "<div>\n",
       "<style scoped>\n",
       "    .dataframe tbody tr th:only-of-type {\n",
       "        vertical-align: middle;\n",
       "    }\n",
       "\n",
       "    .dataframe tbody tr th {\n",
       "        vertical-align: top;\n",
       "    }\n",
       "\n",
       "    .dataframe thead th {\n",
       "        text-align: right;\n",
       "    }\n",
       "</style>\n",
       "<table border=\"1\" class=\"dataframe\">\n",
       "  <thead>\n",
       "    <tr style=\"text-align: right;\">\n",
       "      <th></th>\n",
       "      <th>File</th>\n",
       "      <th>Patient Name</th>\n",
       "      <th>DOB</th>\n",
       "      <th>Age</th>\n",
       "      <th>Gender</th>\n",
       "      <th>Body Height</th>\n",
       "      <th>Body Weight</th>\n",
       "      <th>BMI</th>\n",
       "      <th>Systolic BP</th>\n",
       "      <th>Diastolic BP</th>\n",
       "      <th>Heart Rate</th>\n",
       "      <th>Respiratory Rate</th>\n",
       "      <th>Doctor</th>\n",
       "    </tr>\n",
       "  </thead>\n",
       "  <tbody>\n",
       "    <tr>\n",
       "      <th>0</th>\n",
       "      <td>0.png</td>\n",
       "      <td>Vicki Frank</td>\n",
       "      <td>1971-06-26</td>\n",
       "      <td>53</td>\n",
       "      <td>female</td>\n",
       "      <td>179.9</td>\n",
       "      <td>98.5</td>\n",
       "      <td>30.44</td>\n",
       "      <td>100</td>\n",
       "      <td>86</td>\n",
       "      <td>96.0</td>\n",
       "      <td>14.0</td>\n",
       "      <td>Wynell Mayert</td>\n",
       "    </tr>\n",
       "    <tr>\n",
       "      <th>1</th>\n",
       "      <td>1.png</td>\n",
       "      <td>Leonia Roxie</td>\n",
       "      <td>1961-03-23</td>\n",
       "      <td>63</td>\n",
       "      <td>female</td>\n",
       "      <td></td>\n",
       "      <td></td>\n",
       "      <td></td>\n",
       "      <td></td>\n",
       "      <td></td>\n",
       "      <td></td>\n",
       "      <td></td>\n",
       "      <td>Leif Hane</td>\n",
       "    </tr>\n",
       "    <tr>\n",
       "      <th>2</th>\n",
       "      <td>10.png</td>\n",
       "      <td>Sherrie Mai</td>\n",
       "      <td>1966-01-15</td>\n",
       "      <td>58</td>\n",
       "      <td>female</td>\n",
       "      <td>158.3</td>\n",
       "      <td>76.2</td>\n",
       "      <td>30.41</td>\n",
       "      <td>122</td>\n",
       "      <td>106</td>\n",
       "      <td>86.0</td>\n",
       "      <td>13.0</td>\n",
       "      <td>Carmelita Tromp\\n\\nTate Booking Centre</td>\n",
       "    </tr>\n",
       "    <tr>\n",
       "      <th>3</th>\n",
       "      <td>100.png</td>\n",
       "      <td>Sage Marcella</td>\n",
       "      <td>2002-11-24</td>\n",
       "      <td>21</td>\n",
       "      <td>female</td>\n",
       "      <td>157.7</td>\n",
       "      <td>63.2</td>\n",
       "      <td>25.41</td>\n",
       "      <td>114</td>\n",
       "      <td>79</td>\n",
       "      <td>99.0</td>\n",
       "      <td>16.0</td>\n",
       "      <td>Jerri Stiedemann\\n\\nBooking Centre</td>\n",
       "    </tr>\n",
       "    <tr>\n",
       "      <th>4</th>\n",
       "      <td>101.png</td>\n",
       "      <td>Leonia Roxie</td>\n",
       "      <td>1961-03-23</td>\n",
       "      <td>63</td>\n",
       "      <td>female</td>\n",
       "      <td></td>\n",
       "      <td></td>\n",
       "      <td></td>\n",
       "      <td></td>\n",
       "      <td></td>\n",
       "      <td></td>\n",
       "      <td></td>\n",
       "      <td>Leif Hane\\n\\nBooking Centre</td>\n",
       "    </tr>\n",
       "    <tr>\n",
       "      <th>5</th>\n",
       "      <td>102.png</td>\n",
       "      <td></td>\n",
       "      <td></td>\n",
       "      <td></td>\n",
       "      <td>City</td>\n",
       "      <td></td>\n",
       "      <td></td>\n",
       "      <td></td>\n",
       "      <td></td>\n",
       "      <td></td>\n",
       "      <td></td>\n",
       "      <td></td>\n",
       "      <td>Justin Gutmann</td>\n",
       "    </tr>\n",
       "    <tr>\n",
       "      <th>6</th>\n",
       "      <td>103.png</td>\n",
       "      <td>Faustino Giovanni</td>\n",
       "      <td>2013-11-03</td>\n",
       "      <td>10</td>\n",
       "      <td>male</td>\n",
       "      <td>94.0</td>\n",
       "      <td>15.0</td>\n",
       "      <td>16.96</td>\n",
       "      <td>131</td>\n",
       "      <td>92</td>\n",
       "      <td>91.0</td>\n",
       "      <td>15.0</td>\n",
       "      <td>Shane Torphy\\n\\nBooking Centre</td>\n",
       "    </tr>\n",
       "    <tr>\n",
       "      <th>7</th>\n",
       "      <td>104.png</td>\n",
       "      <td>Leonia Roxie</td>\n",
       "      <td>1961-03-23</td>\n",
       "      <td>63</td>\n",
       "      <td>female</td>\n",
       "      <td></td>\n",
       "      <td></td>\n",
       "      <td></td>\n",
       "      <td></td>\n",
       "      <td></td>\n",
       "      <td></td>\n",
       "      <td></td>\n",
       "      <td>Leif Hane</td>\n",
       "    </tr>\n",
       "    <tr>\n",
       "      <th>8</th>\n",
       "      <td>105.png</td>\n",
       "      <td>Jackie Charmain</td>\n",
       "      <td>1993-09-23</td>\n",
       "      <td>30</td>\n",
       "      <td>female</td>\n",
       "      <td></td>\n",
       "      <td></td>\n",
       "      <td></td>\n",
       "      <td></td>\n",
       "      <td></td>\n",
       "      <td></td>\n",
       "      <td></td>\n",
       "      <td>Nathanael Rogahn</td>\n",
       "    </tr>\n",
       "    <tr>\n",
       "      <th>9</th>\n",
       "      <td>106.png</td>\n",
       "      <td>Leonia Roxie</td>\n",
       "      <td>1961-03-23</td>\n",
       "      <td>63</td>\n",
       "      <td>female</td>\n",
       "      <td></td>\n",
       "      <td></td>\n",
       "      <td></td>\n",
       "      <td></td>\n",
       "      <td></td>\n",
       "      <td></td>\n",
       "      <td></td>\n",
       "      <td>Leif Hane\\n\\nBooking Centre</td>\n",
       "    </tr>\n",
       "  </tbody>\n",
       "</table>\n",
       "</div>"
      ],
      "text/plain": [
       "      File       Patient Name         DOB Age  Gender Body Height Body Weight  \\\n",
       "0    0.png        Vicki Frank  1971-06-26  53  female       179.9        98.5   \n",
       "1    1.png       Leonia Roxie  1961-03-23  63  female                           \n",
       "2   10.png        Sherrie Mai  1966-01-15  58  female       158.3        76.2   \n",
       "3  100.png      Sage Marcella  2002-11-24  21  female       157.7        63.2   \n",
       "4  101.png       Leonia Roxie  1961-03-23  63  female                           \n",
       "5  102.png                                       City                           \n",
       "6  103.png  Faustino Giovanni  2013-11-03  10    male        94.0        15.0   \n",
       "7  104.png       Leonia Roxie  1961-03-23  63  female                           \n",
       "8  105.png    Jackie Charmain  1993-09-23  30  female                           \n",
       "9  106.png       Leonia Roxie  1961-03-23  63  female                           \n",
       "\n",
       "     BMI Systolic BP Diastolic BP Heart Rate Respiratory Rate  \\\n",
       "0  30.44         100           86       96.0             14.0   \n",
       "1                                                               \n",
       "2  30.41         122          106       86.0             13.0   \n",
       "3  25.41         114           79       99.0             16.0   \n",
       "4                                                               \n",
       "5                                                               \n",
       "6  16.96         131           92       91.0             15.0   \n",
       "7                                                               \n",
       "8                                                               \n",
       "9                                                               \n",
       "\n",
       "                                   Doctor  \n",
       "0                           Wynell Mayert  \n",
       "1                               Leif Hane  \n",
       "2  Carmelita Tromp\\n\\nTate Booking Centre  \n",
       "3      Jerri Stiedemann\\n\\nBooking Centre  \n",
       "4             Leif Hane\\n\\nBooking Centre  \n",
       "5                          Justin Gutmann  \n",
       "6          Shane Torphy\\n\\nBooking Centre  \n",
       "7                               Leif Hane  \n",
       "8                        Nathanael Rogahn  \n",
       "9             Leif Hane\\n\\nBooking Centre  "
      ]
     },
     "execution_count": 8,
     "metadata": {},
     "output_type": "execute_result"
    }
   ],
   "source": [
    "import pandas as pd\n",
    "\n",
    "df = pd.DataFrame(structured_data)\n",
    "df.head(10)  # See first few rows\n"
   ]
  },
  {
   "cell_type": "markdown",
   "id": "036a2f9d",
   "metadata": {},
   "source": [
    "Define units for columns"
   ]
  },
  {
   "cell_type": "code",
   "execution_count": 9,
   "id": "97c9da21",
   "metadata": {},
   "outputs": [],
   "source": [
    "import pandas as pd\n",
    "# Define units for numeric columns\n",
    "units = {\n",
    "    \"Age\": \"years\",\n",
    "    \"Body Height\": \"cm\",\n",
    "    \"Body Weight\": \"kg\",\n",
    "    \"BMI\": \"kg/m2\",\n",
    "    \"Systolic BP\": \"mmHg\",\n",
    "    \"Diastolic BP\": \"mmHg\",\n",
    "    \"Heart Rate\": \"/min\",\n",
    "    \"Respiratory Rate\": \"/min\",\n",
    "    \n",
    "}\n",
    "\n",
    "# Rename columns to include units in the header\n",
    "df.rename(columns={col: f\"{col} ({unit})\" for col, unit in units.items() if col in df.columns}, inplace=True)\n"
   ]
  },
  {
   "cell_type": "markdown",
   "id": "6384db03",
   "metadata": {},
   "source": [
    "Drop unnecessary columns"
   ]
  },
  {
   "cell_type": "code",
   "execution_count": 10,
   "id": "ec933f84",
   "metadata": {},
   "outputs": [
    {
     "name": "stdout",
     "output_type": "stream",
     "text": [
      "Saved to OCR_results.xlsx\n"
     ]
    }
   ],
   "source": [
    "df = df.drop(df.columns[22:], axis=1)  \n",
    "output_file = \"OCR_results.xlsx\"\n",
    "df.to_excel(output_file, index=False)  # index=False avoids adding a separate index column\n",
    "print(f\"Saved to {output_file}\")\n",
    "\n"
   ]
  },
  {
   "cell_type": "markdown",
   "id": "15755c3e",
   "metadata": {},
   "source": [
    "Numeric columns to numeric type"
   ]
  },
  {
   "cell_type": "code",
   "execution_count": 11,
   "id": "01c5fd98",
   "metadata": {},
   "outputs": [],
   "source": [
    "numeric_cols = [\n",
    "    \"Age (years)\", \"Body Height (cm)\", \"Body Weight (kg)\", \"BMI (kg/m2)\",\n",
    "    \"Systolic BP (mmHg)\", \"Diastolic BP (mmHg)\",\n",
    "    \"Heart Rate (/min)\", \"Respiratory Rate (/min)\"\n",
    "]\n",
    "\n",
    "for col in numeric_cols:\n",
    "    df[col] = pd.to_numeric(df[col], errors='coerce')\n"
   ]
  },
  {
   "cell_type": "code",
   "execution_count": 12,
   "id": "3bd1e250",
   "metadata": {},
   "outputs": [],
   "source": [
    "import json\n",
    "\n",
    "ocr_json = df.to_dict(orient=\"records\")\n",
    "with open(\"OCR_results.json\", \"w\", encoding=\"utf-8\") as f:\n",
    "    json.dump(ocr_json, f, ensure_ascii=False, indent=4)\n"
   ]
  },
  {
   "cell_type": "code",
   "execution_count": 13,
   "id": "d80810ee",
   "metadata": {},
   "outputs": [
    {
     "name": "stdout",
     "output_type": "stream",
     "text": [
      "{'File': '0.png', 'Patient Name': 'Vicki Frank', 'DOB': '1971-06-26', 'Age (years)': 53.0, 'Gender': 'female', 'Body Height (cm)': 179.9, 'Body Weight (kg)': 98.5, 'BMI (kg/m2)': 30.44, 'Systolic BP (mmHg)': 100.0, 'Diastolic BP (mmHg)': 86.0, 'Heart Rate (/min)': 96.0, 'Respiratory Rate (/min)': 14.0, 'Doctor': 'Wynell Mayert'}\n",
      "{'File': '1.png', 'Patient Name': 'Leonia Roxie', 'DOB': '1961-03-23', 'Age (years)': 63.0, 'Gender': 'female', 'Body Height (cm)': nan, 'Body Weight (kg)': nan, 'BMI (kg/m2)': nan, 'Systolic BP (mmHg)': nan, 'Diastolic BP (mmHg)': nan, 'Heart Rate (/min)': nan, 'Respiratory Rate (/min)': nan, 'Doctor': 'Leif Hane'}\n",
      "{'File': '10.png', 'Patient Name': 'Sherrie Mai', 'DOB': '1966-01-15', 'Age (years)': 58.0, 'Gender': 'female', 'Body Height (cm)': 158.3, 'Body Weight (kg)': 76.2, 'BMI (kg/m2)': 30.41, 'Systolic BP (mmHg)': 122.0, 'Diastolic BP (mmHg)': 106.0, 'Heart Rate (/min)': 86.0, 'Respiratory Rate (/min)': 13.0, 'Doctor': 'Carmelita Tromp\\n\\nTate Booking Centre'}\n"
     ]
    }
   ],
   "source": [
    "with open(\"OCR_results.json\", \"r\", encoding=\"utf-8\") as f:\n",
    "    data = json.load(f)\n",
    "\n",
    "# Print first 3 records to check\n",
    "for record in data[:3]:\n",
    "    print(record)\n"
   ]
  },
  {
   "cell_type": "code",
   "execution_count": 14,
   "id": "b293efe4",
   "metadata": {},
   "outputs": [
    {
     "name": "stdout",
     "output_type": "stream",
     "text": [
      "Saved final Excel ready for InvoiceNet.\n"
     ]
    }
   ],
   "source": [
    "df.to_excel(\"OCR_results_final.xlsx\", index=False) \n",
    "print(\"Saved final Excel ready for InvoiceNet.\")"
   ]
  },
  {
   "cell_type": "code",
   "execution_count": 15,
   "id": "58054d32",
   "metadata": {},
   "outputs": [],
   "source": [
    "with open(\"raw_ocr_texts.json\", \"w\", encoding=\"utf-8\") as f:\n",
    "    json.dump(ocr_texts, f, ensure_ascii=False, indent=4)\n"
   ]
  },
  {
   "cell_type": "markdown",
   "id": "dc2d0196",
   "metadata": {},
   "source": [
    "Check any null values in the table"
   ]
  },
  {
   "cell_type": "code",
   "execution_count": 16,
   "id": "1e10cc5c",
   "metadata": {},
   "outputs": [
    {
     "name": "stdout",
     "output_type": "stream",
     "text": [
      "<class 'pandas.core.frame.DataFrame'>\n",
      "RangeIndex: 400 entries, 0 to 399\n",
      "Data columns (total 13 columns):\n",
      " #   Column                   Non-Null Count  Dtype  \n",
      "---  ------                   --------------  -----  \n",
      " 0   File                     400 non-null    object \n",
      " 1   Patient Name             370 non-null    object \n",
      " 2   DOB                      388 non-null    object \n",
      " 3   Age (years)              369 non-null    float64\n",
      " 4   Gender                   400 non-null    object \n",
      " 5   Body Height (cm)         97 non-null     float64\n",
      " 6   Body Weight (kg)         97 non-null     float64\n",
      " 7   BMI (kg/m2)              101 non-null    float64\n",
      " 8   Systolic BP (mmHg)       124 non-null    float64\n",
      " 9   Diastolic BP (mmHg)      124 non-null    float64\n",
      " 10  Heart Rate (/min)        119 non-null    float64\n",
      " 11  Respiratory Rate (/min)  119 non-null    float64\n",
      " 12  Doctor                   399 non-null    object \n",
      "dtypes: float64(8), object(5)\n",
      "memory usage: 40.8+ KB\n",
      "None\n",
      "      File   Patient Name         DOB  Age (years)  Gender  Body Height (cm)  \\\n",
      "0    0.png    Vicki Frank  1971-06-26         53.0  female             179.9   \n",
      "1    1.png   Leonia Roxie  1961-03-23         63.0  female               NaN   \n",
      "2   10.png    Sherrie Mai  1966-01-15         58.0  female             158.3   \n",
      "3  100.png  Sage Marcella  2002-11-24         21.0  female             157.7   \n",
      "4  101.png   Leonia Roxie  1961-03-23         63.0  female               NaN   \n",
      "\n",
      "   Body Weight (kg)  BMI (kg/m2)  Systolic BP (mmHg)  Diastolic BP (mmHg)  \\\n",
      "0              98.5        30.44               100.0                 86.0   \n",
      "1               NaN          NaN                 NaN                  NaN   \n",
      "2              76.2        30.41               122.0                106.0   \n",
      "3              63.2        25.41               114.0                 79.0   \n",
      "4               NaN          NaN                 NaN                  NaN   \n",
      "\n",
      "   Heart Rate (/min)  Respiratory Rate (/min)  \\\n",
      "0               96.0                     14.0   \n",
      "1                NaN                      NaN   \n",
      "2               86.0                     13.0   \n",
      "3               99.0                     16.0   \n",
      "4                NaN                      NaN   \n",
      "\n",
      "                                   Doctor  \n",
      "0                           Wynell Mayert  \n",
      "1                               Leif Hane  \n",
      "2  Carmelita Tromp\\n\\nTate Booking Centre  \n",
      "3      Jerri Stiedemann\\n\\nBooking Centre  \n",
      "4             Leif Hane\\n\\nBooking Centre  \n"
     ]
    }
   ],
   "source": [
    "import pandas as pd\n",
    "\n",
    "df_check = pd.read_excel(\"OCR_results_final.xlsx\")\n",
    "print(df_check.info())       # Check column types and missing values\n",
    "print(df_check.head(5))      # Inspect first 5 rows\n"
   ]
  },
  {
   "cell_type": "code",
   "execution_count": 17,
   "id": "4798e868",
   "metadata": {},
   "outputs": [],
   "source": [
    "import pandas as pd\n",
    "import numpy as np\n",
    "\n",
    "df = pd.read_excel(\"OCR_results_final.xlsx\")\n"
   ]
  },
  {
   "cell_type": "markdown",
   "id": "80af3235",
   "metadata": {},
   "source": [
    "Fill missing values with realistic defaults"
   ]
  },
  {
   "cell_type": "code",
   "execution_count": 18,
   "id": "b3040e3e",
   "metadata": {},
   "outputs": [],
   "source": [
    "# Fill Patient Name with placeholder if missing\n",
    "df['Patient Name'] = df['Patient Name'].fillna('Unknown Patient')\n",
    "\n",
    "# Fill Gender randomly if missing\n",
    "df['Gender'] = df['Gender'].apply(lambda x: x if pd.notnull(x) else np.random.choice(['M', 'F']))\n",
    "\n",
    "# Fill numeric columns with realistic ranges\n",
    "df['Age (years)'] = df['Age (years)'].apply(lambda x: x if pd.notnull(x) else np.random.randint(20, 80))\n",
    "df['Body Height (cm)'] = df['Body Height (cm)'].apply(lambda x: x if pd.notnull(x) else np.random.randint(150, 190))\n",
    "df['Body Weight (kg)'] = df['Body Weight (kg)'].apply(lambda x: x if pd.notnull(x) else np.random.randint(50, 100))\n",
    "df['BMI (kg/m2)'] = df['BMI (kg/m2)'].apply(lambda x: x if pd.notnull(x) else round(np.random.uniform(18, 35), 1))\n",
    "df['Systolic BP (mmHg)'] = df['Systolic BP (mmHg)'].apply(lambda x: x if pd.notnull(x) else np.random.randint(90, 160))\n",
    "df['Diastolic BP (mmHg)'] = df['Diastolic BP (mmHg)'].apply(lambda x: x if pd.notnull(x) else np.random.randint(60, 100))\n",
    "df['Heart Rate (/min)'] = df['Heart Rate (/min)'].apply(lambda x: x if pd.notnull(x) else np.random.randint(55, 110))\n",
    "df['Respiratory Rate (/min)'] = df['Respiratory Rate (/min)'].apply(lambda x: x if pd.notnull(x) else np.random.randint(12, 22))\n",
    "\n",
    "# Fill Doctor with placeholder\n",
    "df['Doctor'] = df['Doctor'].fillna('Dr. Unknown')\n"
   ]
  },
  {
   "cell_type": "code",
   "execution_count": 19,
   "id": "ddbf1b19",
   "metadata": {},
   "outputs": [
    {
     "name": "stdout",
     "output_type": "stream",
     "text": [
      "Filled dataset saved as 'OCR_results_filled.xlsx'\n"
     ]
    }
   ],
   "source": [
    "df.to_excel(\"Filled_data_file.xlsx\", index=False)\n",
    "print(\"Filled dataset saved as 'OCR_results_filled.xlsx'\")\n"
   ]
  },
  {
   "cell_type": "code",
   "execution_count": 20,
   "id": "1defbe89",
   "metadata": {},
   "outputs": [
    {
     "name": "stdout",
     "output_type": "stream",
     "text": [
      "<class 'pandas.core.frame.DataFrame'>\n",
      "RangeIndex: 400 entries, 0 to 399\n",
      "Data columns (total 13 columns):\n",
      " #   Column                   Non-Null Count  Dtype  \n",
      "---  ------                   --------------  -----  \n",
      " 0   File                     400 non-null    object \n",
      " 1   Patient Name             400 non-null    object \n",
      " 2   DOB                      388 non-null    object \n",
      " 3   Age (years)              400 non-null    float64\n",
      " 4   Gender                   400 non-null    object \n",
      " 5   Body Height (cm)         400 non-null    float64\n",
      " 6   Body Weight (kg)         400 non-null    float64\n",
      " 7   BMI (kg/m2)              400 non-null    float64\n",
      " 8   Systolic BP (mmHg)       400 non-null    float64\n",
      " 9   Diastolic BP (mmHg)      400 non-null    float64\n",
      " 10  Heart Rate (/min)        400 non-null    float64\n",
      " 11  Respiratory Rate (/min)  400 non-null    float64\n",
      " 12  Doctor                   400 non-null    object \n",
      "dtypes: float64(8), object(5)\n",
      "memory usage: 40.8+ KB\n",
      "None\n",
      "      File   Patient Name         DOB  Age (years)  Gender  Body Height (cm)  \\\n",
      "0    0.png    Vicki Frank  1971-06-26         53.0  female             179.9   \n",
      "1    1.png   Leonia Roxie  1961-03-23         63.0  female             187.0   \n",
      "2   10.png    Sherrie Mai  1966-01-15         58.0  female             158.3   \n",
      "3  100.png  Sage Marcella  2002-11-24         21.0  female             157.7   \n",
      "4  101.png   Leonia Roxie  1961-03-23         63.0  female             180.0   \n",
      "\n",
      "   Body Weight (kg)  BMI (kg/m2)  Systolic BP (mmHg)  Diastolic BP (mmHg)  \\\n",
      "0              98.5        30.44               100.0                 86.0   \n",
      "1              64.0        29.80                95.0                 89.0   \n",
      "2              76.2        30.41               122.0                106.0   \n",
      "3              63.2        25.41               114.0                 79.0   \n",
      "4              81.0        27.30               104.0                 76.0   \n",
      "\n",
      "   Heart Rate (/min)  Respiratory Rate (/min)  \\\n",
      "0               96.0                     14.0   \n",
      "1               80.0                     12.0   \n",
      "2               86.0                     13.0   \n",
      "3               99.0                     16.0   \n",
      "4               57.0                     16.0   \n",
      "\n",
      "                                   Doctor  \n",
      "0                           Wynell Mayert  \n",
      "1                               Leif Hane  \n",
      "2  Carmelita Tromp\\n\\nTate Booking Centre  \n",
      "3      Jerri Stiedemann\\n\\nBooking Centre  \n",
      "4             Leif Hane\\n\\nBooking Centre  \n"
     ]
    }
   ],
   "source": [
    "print(df.info())   # Check for any remaining missing values\n",
    "print(df.head(5))  # Inspect first few rows\n"
   ]
  },
  {
   "cell_type": "markdown",
   "id": "d40fde72",
   "metadata": {},
   "source": [
    "Risk scoring"
   ]
  },
  {
   "cell_type": "code",
   "execution_count": 21,
   "id": "59ed6b63",
   "metadata": {},
   "outputs": [
    {
     "data": {
      "text/plain": [
       "Risk Level\n",
       "Medium    186\n",
       "High      107\n",
       "Low       107\n",
       "Name: count, dtype: int64"
      ]
     },
     "execution_count": 21,
     "metadata": {},
     "output_type": "execute_result"
    }
   ],
   "source": [
    "import pandas as pd\n",
    "\n",
    "df = pd.read_excel(\"Filled_data_file.xlsx\")\n",
    "\n",
    "def assign_risk(row):\n",
    "    score = 0\n",
    "    \n",
    "    # Age\n",
    "    if row['Age (years)'] > 65:\n",
    "        score += 3\n",
    "    elif row['Age (years)'] > 45:\n",
    "        score += 2\n",
    "    else:\n",
    "        score += 1\n",
    "    \n",
    "    # BMI\n",
    "    if row['BMI (kg/m2)'] >= 30:\n",
    "        score += 2\n",
    "    elif row['BMI (kg/m2)'] >= 25:\n",
    "        score += 1\n",
    "    \n",
    "    # Blood Pressure\n",
    "    if row['Systolic BP (mmHg)'] > 140 or row['Diastolic BP (mmHg)'] > 90:\n",
    "        score += 2\n",
    "    \n",
    "    # Heart Rate\n",
    "    if row['Heart Rate (/min)'] < 60 or row['Heart Rate (/min)'] > 100:\n",
    "        score += 1\n",
    "    \n",
    "    # Respiratory Rate\n",
    "    if row['Respiratory Rate (/min)'] < 12 or row['Respiratory Rate (/min)'] > 20:\n",
    "        score += 1\n",
    "    \n",
    "    # Assign risk level\n",
    "    if score >= 5:\n",
    "        return \"High\"\n",
    "    elif score >= 3:\n",
    "        return \"Medium\"\n",
    "    else:\n",
    "        return \"Low\"\n",
    "\n",
    "df['Risk Level'] = df.apply(assign_risk, axis=1)\n",
    "df['Risk Level'].value_counts()\n"
   ]
  },
  {
   "cell_type": "markdown",
   "id": "6e4190e9",
   "metadata": {},
   "source": [
    "Machine learning Random forest classifier"
   ]
  },
  {
   "cell_type": "code",
   "execution_count": 22,
   "id": "82165e0e",
   "metadata": {},
   "outputs": [],
   "source": [
    "# Select features\n",
    "features = [\n",
    "    'Age (years)', 'BMI (kg/m2)', \n",
    "    'Systolic BP (mmHg)', 'Diastolic BP (mmHg)',\n",
    "    'Heart Rate (/min)', 'Respiratory Rate (/min)'\n",
    "]\n",
    "\n",
    "X = df[features]\n",
    "y = df['Risk Level']\n"
   ]
  },
  {
   "cell_type": "code",
   "execution_count": 23,
   "id": "be2dc361",
   "metadata": {},
   "outputs": [],
   "source": [
    "from sklearn.model_selection import train_test_split\n",
    "\n",
    "X_train, X_test, y_train, y_test = train_test_split(\n",
    "    X, y, test_size=0.2, random_state=42, stratify=y\n",
    ")\n"
   ]
  },
  {
   "cell_type": "code",
   "execution_count": 24,
   "id": "fe7dc7f3",
   "metadata": {},
   "outputs": [
    {
     "name": "stdout",
     "output_type": "stream",
     "text": [
      "[[17  0  5]\n",
      " [ 0 20  1]\n",
      " [ 2  2 33]]\n",
      "              precision    recall  f1-score   support\n",
      "\n",
      "        High       0.89      0.77      0.83        22\n",
      "         Low       0.91      0.95      0.93        21\n",
      "      Medium       0.85      0.89      0.87        37\n",
      "\n",
      "    accuracy                           0.88        80\n",
      "   macro avg       0.88      0.87      0.88        80\n",
      "weighted avg       0.88      0.88      0.87        80\n",
      "\n"
     ]
    }
   ],
   "source": [
    "from sklearn.ensemble import RandomForestClassifier\n",
    "from sklearn.metrics import classification_report, confusion_matrix\n",
    "\n",
    "# Initialize and train\n",
    "rf = RandomForestClassifier(n_estimators=100, random_state=42)\n",
    "rf.fit(X_train, y_train)\n",
    "\n",
    "# Predictions\n",
    "y_pred = rf.predict(X_test)\n",
    "\n",
    "# Evaluation\n",
    "print(confusion_matrix(y_test, y_pred))\n",
    "print(classification_report(y_test, y_pred))\n"
   ]
  },
  {
   "cell_type": "markdown",
   "id": "5c2b3e06",
   "metadata": {},
   "source": [
    "Save the model"
   ]
  },
  {
   "cell_type": "code",
   "execution_count": 25,
   "id": "05d7c3bf",
   "metadata": {},
   "outputs": [
    {
     "name": "stdout",
     "output_type": "stream",
     "text": [
      "Model saved successfully!\n"
     ]
    }
   ],
   "source": [
    "import joblib\n",
    "from sklearn.ensemble import RandomForestClassifier\n",
    "\n",
    "\n",
    "joblib.dump(rf, \"risk_model.pkl\")\n",
    "print(\"Model saved successfully!\")\n"
   ]
  },
  {
   "cell_type": "code",
   "execution_count": 26,
   "id": "01ca8b21",
   "metadata": {},
   "outputs": [
    {
     "data": {
      "image/png": "[encoded data removed]",
      "text/plain": [
       "<Figure size 600x500 with 2 Axes>"
      ]
     },
     "metadata": {},
     "output_type": "display_data"
    }
   ],
   "source": [
    "import seaborn as sns\n",
    "import matplotlib.pyplot as plt\n",
    "from sklearn.metrics import confusion_matrix\n",
    "\n",
    "# Labels\n",
    "labels = ['High', 'Low', 'Medium']\n",
    "\n",
    "# Compute confusion matrix\n",
    "cm = confusion_matrix(y_test, y_pred, labels=labels)\n",
    "\n",
    "# Plot\n",
    "plt.figure(figsize=(6,5))\n",
    "sns.heatmap(cm, annot=True, fmt='d', xticklabels=labels, yticklabels=labels, cmap='Blues')\n",
    "plt.xlabel(\"Predicted\")\n",
    "plt.ylabel(\"Actual\")\n",
    "plt.title(\"Confusion Matrix\")\n",
    "plt.show()\n"
   ]
  }
 ],
 "metadata": {
  "kernelspec": {
   "display_name": ".venv (3.11.9)",
   "language": "python",
   "name": "python3"
  },
  "language_info": {
   "codemirror_mode": {
    "name": "ipython",
    "version": 3
   },
   "file_extension": ".py",
   "mimetype": "text/x-python",
   "name": "python",
   "nbconvert_exporter": "python",
   "pygments_lexer": "ipython3",
   "version": "3.11.9"
  }
 },
 "nbformat": 4,
 "nbformat_minor": 5
}
